{
 "cells": [
  {
   "cell_type": "code",
   "execution_count": 3,
   "metadata": {},
   "outputs": [],
   "source": [
    "\"\"\"\n",
    "@author: Vaishali Oga\n",
    ":: Kernel Python 3.6\n",
    "        \n",
    "\"\"\"\n",
    "#importing required packages\n",
    "import fileinput\n",
    "import re\n",
    "import pandas as pd\n",
    "from textblob import *\n",
    "\n",
    "import nltk\n",
    "\n",
    "from nltk import *\n",
    "import operator\n",
    "import csv\n",
    "\n",
    "import matplotlib.mlab as mlab\n",
    "import matplotlib.pyplot as plt"
   ]
  },
  {
   "cell_type": "code",
   "execution_count": 4,
   "metadata": {},
   "outputs": [],
   "source": [
    "import os\n",
    "os.getcwd()\n",
    "os.chdir('C:/Users/ogav/Documents/TinkerTime')\n"
   ]
  },
  {
   "cell_type": "code",
   "execution_count": 5,
   "metadata": {},
   "outputs": [],
   "source": [
    "# Intialize an empty list to hold all of our comments\n",
    "comment = []"
   ]
  },
  {
   "cell_type": "code",
   "execution_count": 6,
   "metadata": {},
   "outputs": [],
   "source": [
    "# A helper function that removes all the non ASCII characters\n",
    "# from the given string. Retuns a string with only ASCII characters.\n",
    "def strip_non_ascii(string):\n",
    "    ''' Returns the string without non ASCII characters'''\n",
    "    stripped = (c for c in string if 0 < ord(c) < 127)\n",
    "    return ''.join(stripped)"
   ]
  },
  {
   "cell_type": "code",
   "execution_count": 8,
   "metadata": {},
   "outputs": [],
   "source": [
    "# LOAD AND CLEAN DATA\n",
    "\n",
    "# Load in the input file and process each row at a time.\n",
    "# We assume that the file has 1 column:\n",
    "# 1. The comment text.\n",
    "\n",
    "#\n",
    "# We create a data structure for each comment:\n",
    "#\n",
    "\n",
    "# orig:     The original, unpreprocessed string of characters\n",
    "# clean:    The preprocessed string of characters\n",
    "# TextBlob: The TextBlob object, created from the 'clean' string\n",
    "\n",
    "\n",
    "    \n",
    " \n",
    "import codecs\n",
    "with codecs.open('Comments.csv',) as csvfile:\n",
    "#with open('Comments.csv','rb') as csvfile:\n",
    "    reade = csv.reader(csvfile, delimiter=',')\n",
    "    next(reade)\n",
    "    for row in reade:\n",
    "        comments= dict()\n",
    "        comments['Comment'] = row[0]\n",
    "        \n",
    "        #comments['created'] = int(row[1])\n",
    "\n",
    "\n",
    "        comments['clean'] = comments['Comment']\n",
    "\n",
    "        # Remove all non-ascii characters\n",
    "        comments['clean'] = strip_non_ascii(comments['clean'])\n",
    "\n",
    "        # Normalize case\n",
    "        comments['clean'] = comments['clean'].lower()\n",
    "\n",
    "        # Remove URLS\n",
    "        comments['clean'] = re.sub(r'http[s]?://(?:[a-zA-Z]|[0-9]|[$-_@.&+]|[!*\\(\\),]|(?:%[0-9a-fA-F][0-9a-fA-F]))+', '', comments['clean'])\n",
    "        # Fix internet lingo\n",
    "        comments['clean'] = re.sub(r'\\bthats\\b', 'that is', comments['clean'])\n",
    "        comments['clean'] = re.sub(r'\\bive\\b', 'i have', comments['clean'])\n",
    "        comments['clean'] = re.sub(r'\\bim\\b', 'i am', comments['clean'])\n",
    "        comments['clean'] = re.sub(r'\\bya\\b', 'yeah', comments['clean'])\n",
    "        comments['clean'] = re.sub(r'\\bcant\\b', 'can not', comments['clean'])\n",
    "        comments['clean'] = re.sub(r'\\bwont\\b', 'will not', comments['clean'])\n",
    "        comments['clean'] = re.sub(r'\\bid\\b', 'i would', comments['clean'])\n",
    "        comments['clean'] = re.sub(r'wtf', 'what the fuck', comments['clean'])\n",
    "        comments['clean'] = re.sub(r'\\bwth\\b', 'what the hell', comments['clean'])\n",
    "        comments['clean'] = re.sub(r'\\br\\b', 'are', comments['clean'])\n",
    "        comments['clean'] = re.sub(r'\\bu\\b', 'you', comments['clean'])\n",
    "        comments['clean'] = re.sub(r'\\bk\\b', 'OK', comments['clean'])\n",
    "        comments['clean'] = re.sub(r'\\bsux\\b', 'sucks', comments['clean'])\n",
    "        comments['clean'] = re.sub(r'\\bno+\\b', 'no', comments['clean'])\n",
    "        comments['clean'] = re.sub(r'\\bcoo+\\b', 'cool', comments['clean'])\n",
    "\n",
    "       \n",
    "        # Create textblob object\n",
    "        comments['TextBlob'] = TextBlob(comments['clean'])\n",
    "\n",
    "        # Correct spelling (SLOW)\n",
    "        #comments['TextBlob'] = comments['TextBlob'].correct()\n",
    "\n",
    "        #comments.append(comments)# LOAD AND CLEAN DATA\n",
    "        comment.append(comments)\n",
    "        "
   ]
  },
  {
   "cell_type": "code",
   "execution_count": 9,
   "metadata": {},
   "outputs": [],
   "source": [
    "# DEVELOP MODELS\n",
    "\n",
    "for comments in comment:\n",
    "    comments['polarity'] = float(comments['TextBlob'].sentiment.polarity)\n",
    "    comments['subjectivity'] = float(comments['TextBlob'].sentiment.subjectivity)\n",
    "\n",
    "    if comments['polarity'] >= 0.1:\n",
    "        comments['sentiment'] = 'positive'\n",
    "    elif comments['polarity'] <= -0.1:\n",
    "        comments['sentiment'] = 'negative'\n",
    "    else:\n",
    "        comments['sentiment'] = 'neutral'\n",
    "\n",
    "comment_sorted = sorted(comment, key=lambda k: k['polarity'])"
   ]
  },
  {
   "cell_type": "code",
   "execution_count": 10,
   "metadata": {},
   "outputs": [
    {
     "name": "stdout",
     "output_type": "stream",
     "text": [
      "clean=terrible.  contacting owners\n",
      "clean=worst order ever from dominos\n",
      "clean=worst service ever\n",
      "clean=terrrbile\n",
      "clean=thank you for delivering on easter! me and my employees are very greatful  scott and robert have risin indeed\n",
      "clean=my pizza was terrible :\n",
      "clean=lava cakes were the worst yesterdaylike they were ran over by a steamroller not even cooked you guys need to start learning how to do job\n",
      "clean=it said that the order will take max 23 mins...ot came after one hour....i ordered a side bbq sauce and it didnt come with the order!!!!!!.....the worst experience ever\n",
      "clean=you suck! worst delivery service! pizza didn't leave store until it was sitting there for 40 minutes!!!! refund my money!!!!!!!!!\n",
      "clean=i would like to know why my pizza had to sit at the store for 1hour before it was delivered !!!!!!????? pizza was horrible !! cold as ice !!!   can someone contact me please !!!!!!!!!!!!!!\n",
      "clean=ordering online was terrible i ordered a delivery they told me  they dont deliver to my area why would it let me order from a place that they dont deliver to me. this was a very terrible experience per benson   and they quoted me a price and then went up f\n",
      "clean=terrible.  contacting owners\n",
      "clean=worst order ever from dominos\n",
      "clean=worst service ever\n",
      "clean=my pizza was terrible :\n",
      "clean=lava cakes were the worst yesterdaylike they were ran over by a steamroller not even cooked you guys need to start learning how to do job\n",
      "clean=it said that the order will take max 23 mins...ot came after one hour....i ordered a side bbq sauce and it didnt come with the order!!!!!!.....the worst experience ever\n",
      "clean=you suck! worst delivery service! pizza didn't leave store until it was sitting there for 40 minutes!!!! refund my money!!!!!!!!!\n",
      "clean=i would like to know why my pizza had to sit at the store for 1hour before it was delivered !!!!!!????? pizza was horrible !! cold as ice !!!   can someone contact me please !!!!!!!!!!!!!!\n",
      "clean=ordering online was terrible i ordered a delivery they told me  they dont deliver to my area why would it let me order from a place that they dont deliver to me. this was a very terrible experience per benson   and they quoted me a price and then went up f\n",
      "clean=terrible\n",
      "clean=the marinara cup was rotten and disgusting. we had to throw it out\n",
      "clean=worst service ever this store never answers phone , delivery also takes longer than the time given. i will not be ordering from here again\n",
      "clean=pizza was nasty\n",
      "clean=service is horrible at this location\n",
      "clean=the pizza is made terribly and they forgot to put pepperoni on it\n",
      "clean=worst customer service ever!\n",
      "clean=horrible service\n",
      "clean=i called to check on my order because the tracker was not working and i received the worst phone customer service ever the worker started talking about how he just got there and they are not taking orders even though i ordered online. i would never order o\n",
      "clean=the worst dominos ever they had me waiting four hours for a delivery\n",
      "clean=pizza tracker is off! says it's delivered but it's not! online took the money but didn't deliver. terrible service. store didn't answer the phone to satisfy my concern. ghetto dominoes pizza franchise. never order from here again\n",
      "clean=he was rushing & and took the money out my hand and walked away and didn't even ask me if i wanted my change . horrible service\n",
      "clean=food was good,but it took five minutes for anyone to greet me when i arrived for pick up. horrible customer service.\n",
      "clean=your service is horrible .  i ordered pizza 2 hours ago and i've been calling for 45 minutes and i've been on hold for 45 minutes you can cancel my order and i would not recommend your store to anybody\n",
      "clean=horrible my food was nasty than i called to let know and i was placed on hold for 40 mins than hung up on horrible horrible horrible\n",
      "clean=i never received my order and its already paid for!!! each time i called, you guys had me on hold forever!!! this experience has been the worst!\n",
      "clean=still waiting on my food, and been on hold with the store for 10min now and still counting. this is terrible\n",
      "clean=this was the worst delivery i have ever had in my life i have never had a problem with ordering online with some one elses card and your delivery guy asked for my grandmothers card and her i would and that is not how online ordering works\n",
      "clean=very terrible customer service\n",
      "clean=pizza was terrible!!!!!!!!!!!!!!!\n",
      "clean=the worst service ever i am sitting here waiting on a pizza sisince 8:20 its now 10:05pm, i called the store and asked tthe status and the girl said do you want me to cancel i said what is the status and she put me on hold to say the driver been here but no\n",
      "clean=its been 3 hours and have not received my pizza. store owner will not give me a refund on my credit card. worst pizza experience ever!!!\n",
      "clean=i didnt receive my pizza! terrible service!\n",
      "clean=on hold with this store for the past 6 min!!! according to the tracking my pizza was delivered. i do not have it!!!!! nothing has been delivered!!!!!!!!!\n",
      "clean=never got the delivery after 2 hours and its saying it was terrible service\n",
      "clean=i asked for my pasta to be in a bread bowl and it wasnt!!!! i also asked to have spinach in my pasta and it wasnt!!!! it took almost 3 hours for my order to be delivered!!!! horrible service!!!!!\n",
      "clean=that shot was nasty\n",
      "clean=your service is horrible\n",
      "clean=this location was horrible ordered online got there still had to wait 20mins and they were out of 50 of the toppings\n",
      "clean=worst pizza place on the planet\n",
      "clean=my order was horrible pizza was on one side of the box all the toppings were off and the driver had to go to the gas station to get change. so upset\n",
      "clean=terrible customer service\n",
      "clean=this has litterally been the worst experience i have ever had at dominos. i have called had them hang up twice, and put me on hold for 20 minutes when trying to call about my delivery...\n",
      "clean=terrible service\n",
      "clean=dominos service was horrible\n",
      "clean=pizza was horrible\n",
      "clean=didnt recieve my order driver lied and said they called and knocked on my door which is a lie didnt recieve a call or nobody didnt knock on my door smh so disappointed!!!!\n",
      "clean=my food has still not made it here horrible service\n",
      "clean=i received none of my order!!!! poor service!!!!!\n",
      "clean=it was nasty and my wings was burnt\n",
      "clean=horrible i havent received my order\n",
      "clean=no pizza delivered and i have been on hold for 6 minutes. horrible service!\n",
      "clean=my order never came and i was still charge for somettjing someone else probably ate l. terrible delivery service\n",
      "clean=tracker says delivered but i am not eating yet!!! i ordered over an hour ago and nothing has been delivered. i have been on hold for 17 minutes now!! horrible service.\n",
      "clean=i havent got my pizza yet it says it was delivered. i called was hung up on staff is horrible\n",
      "clean=inside service is terrible\n",
      "clean=this location is always terrible\n",
      "clean=although i knew it was going to take some time to make the pizzas that location is horrible. i ended up picking up my pizzas instead of delivery. there was rap music playing with profanity. no one was using servsafe practices while preparing the food and o\n",
      "clean=horrible service\n",
      "clean=this was the worst experience i've had from this dominos.   the pizza was burnt.\n",
      "clean=terrible service i ordered my food over a hour ago still didnt get it and i been on hold for 20mins i want a refund\n",
      "clean=terrible food\n",
      "clean=my coke bottle smells like cigarettes, that's disgusting.\n",
      "clean=this is some of the worst \"food\" i've ever had.\n",
      "clean=horrible service. took forever to get my order\n",
      "clean=horrible service.  i have been waiting ovrr 1 hour.  still havent got it and the app ssys i did.  i am ed.\n",
      "clean=it took 40 min  for a c3 topping carry out nobody apologized just terrible customer service\n",
      "clean=hi my name is alfred i order for dominos all the time i got the worst service by lady that answered the phone and the delivery guy that cursed at me\n",
      "clean=horrible service\n",
      "clean=the pizza was awful, i will never order from this domions again!  plus someone didn't read my order correctly i purchased a fruit-punch drink instead i received a sprite drink.\n",
      "clean=the sub sandwich was horrible. i will never order it again. it tasted awful. i don't know where the steak came from, but the taste of it, and the cheese was the worst i've ever tasted. i will stick with tubby's. i won't ever order a sub from domino's again\n",
      "clean=never had a bad pie from livonia.  thank you  as always!!!\n",
      "clean=the manager hung up on me twice and refused to reverse the charges for the pizza that was never delivered. worst dominos ever.\n",
      "clean=placed the order at 10 pm got it delivered at 10:50pm but the app said that its been already been delivered at 10:30 pm seriously a very bad experience!\n",
      "clean=my pasta was terrible\n",
      "clean=horrible customer service my pizza was never delivered and the customers argued with me on the phone.  i will never order from you again\n",
      "clean=horrible\n",
      "clean=pizza tastes awful for some reason.\n",
      "clean=my pizza was cut very terrible, who ever cut my pizza needs to learn how to cut pizza before trying again.\n",
      "clean=no reason to enter credit card information on-line if they are going to ask for the card and photo i would when i get to the store. annoying!!!! amazon does not ask for photo i would when the postal worker delivers my box. this is not 1980.\n",
      "clean=pizza taste horrible\n",
      "clean=dante was late!!!!!!\n",
      "clean=my pizza looks nasty\n",
      "clean=food took forever said i had the food and was still waiting on my food terrible service\n",
      "clean=that was horrible. the edges of the pizza were burnt and there was no sauce. i also paid for icing and didnt receive it.\n",
      "clean=pizza looked horrible. no crust, cheese running off the edges. we have pictures...\n",
      "clean=almost 2 hours and still never showed up.  just sad how this place do you never again!!!!! and the tracker said i got my food that is some bs.\n",
      "clean=the food was terrible will not be ordering again.\n",
      "clean=terrible service\n",
      "clean=too salty! tasted horrible! with all the cheese i thought it would be cheesey and it wasnt. i will stick to sterling heights dominoes. this one was horrinle\n",
      "\n",
      " \n",
      " \n",
      " end of negative comments \n",
      " \n",
      " \n",
      "\n",
      "clean=completely burned my order\n",
      "clean=pizza was not baked completely\n",
      "clean=far out boiiii\n",
      "clean=look forward some coupons n offers.\n",
      "clean=it let me put in the address and then marked me as a carry out\n",
      "clean=order tracker showed order complete at 8:21, was not sent for delivery until 8:43, and as of 9:08 pm it still has not arrived.  i will not be ordering from this store for a while.\n",
      "clean=it took 45 minutes to get 2 medium pizzas. the manager at the store kept making excuses about being short staffed, although it seemed like it was fully staffed.the pizza tracker lied, and said that the pizzas were ready to be picked up when in fact it was\n",
      "clean=i placed the order and paid and within 10 min received a call from the store saying they were out of pineapple and i needed to pick something else. so i did. i then watched the tracker online and when it said it was out for delivery i waited near the door.\n",
      "clean=i have waited  30 minutes after the posted time that kenan left there which it said 15-20 minutes for delivery...do you know how much longer its going to be\n",
      "clean=looking forward for offers on handmade pan pizza as well.\n",
      "clean=the online user interface is a nightmare and i have used it before. malfunctioning all over the place and taking me to the legal stuff page when i am trying to place an order. after 15 minutes of fighting with that, i called the local store and they put me o\n",
      "clean=i never have any problems with you and i realize you are busy today but i did not receive my 20 oz diet cke.\n",
      "clean=completely burned my order\n",
      "clean=pizza was not baked completely\n",
      "clean=far out boiiii\n",
      "clean=look forward some coupons n offers.\n",
      "clean=it let me put in the address and then marked me as a carry out\n",
      "clean=the medium pizza wasnt cut haha. it was just one giant circle.\n",
      "clean=order tracker showed order complete at 8:21, was not sent for delivery until 8:43, and as of 9:08 pm it still has not arrived.  i will not be ordering from this store for a while.\n",
      "clean=it took 45 minutes to get 2 medium pizzas. the manager at the store kept making excuses about being short staffed, although it seemed like it was fully staffed.the pizza tracker lied, and said that the pizzas were ready to be picked up when in fact it was\n",
      "clean=james was professionally personable.\n",
      "clean=i placed the order and paid and within 10 min received a call from the store saying they were out of pineapple and i needed to pick something else. so i did. i then watched the tracker online and when it said it was out for delivery i waited near the door.\n",
      "clean=i have waited  30 minutes after the posted time that kenan left there which it said 15-20 minutes for delivery...do you know how much longer its going to be\n",
      "clean=looking forward for offers on handmade pan pizza as well.\n",
      "clean=the online user interface is a nightmare and i have used it before. malfunctioning all over the place and taking me to the legal stuff page when i am trying to place an order. after 15 minutes of fighting with that, i called the local store and they put me o\n",
      "clean=i never have any problems with you and i realize you are busy today but i did not receive my 20 oz diet cke.\n",
      "clean=where is pizza?  pizza no here.  we wan free.\n",
      "clean=it says its on the way, but i have been sitting here for over an hour, and still not received anything. took 20 minutes to bake, 15 for the quality check, and so far 50 for it to arrive, and it still hasnt arrived.\n",
      "clean=my order was not punctual,  i recieved my order an hour after the initial estimated delivery time.  dawone was very polite.\n",
      "clean=my order was for one regular and one thin crust pizza and both were regular. usually happy, dissapointed this time.\n",
      "clean=7:14 - messaged that food was here 10 min ago but no pizza so far\n",
      "clean=wow\n",
      "clean=usually ghe service is on time and the food is better. the cheese bread is looks significantly smaller than it normally does, and even though my order said it could take 22-40 minutes, taking 51 is unreasonable.\n",
      "clean=vianda: order was not delivered. waited over an hour at door, husband is diabetic and needed food. called repeatedly but phone was off the hook, got busy signal. i have  used this dominoes for years, but i will not recommend to anyone, because  if you were no\n",
      "clean=forgot my 2 litter pepsi. wow.\n",
      "clean=pie cut isn't blocks, please cut pie cut in the future. thanks\n",
      "clean=it took over to hours to receive my pizza. i was left on hold twice. i was hang up on while i waited on hold. i was very displeased with my service tonight.  i paid up front with my credit card and i was played . received my pizza a d they were not even ho\n",
      "clean=i did not receive my order and i paid by credit card.  i cannot contact store, ph line has busy signal\n",
      "clean=i did  receive my order before the 35 minutes that was estimated that it would take for the order to be completed. however one of my pieces had the incorrect topping. i called and spoke to a young lady who apologized and said that my pizza would be sent ba\n",
      "clean=please erase my card number because my man left and we didn't know we had to show i'd and the card. i would appreciate it. thanks.\n",
      "clean=where is our order i call 273 2420 call staying busy\n",
      "clean=i just realized that the reason 2 of my orders have been incorrect is that i select the crust type then the size. when you do that it changes the crust to regular and not thin cust like i wanted.\n",
      "clean=its very concerning to see that our order came out of the oven 30 minutes before leaving the store. additionally, it then took another 40 minutes to for the food to actually arrive, at room temperature. so, we paid for lukewarm food that sat around for ove\n",
      "clean=i place my order at 7:47 i didnt leave out of the pizza place in till 8:21. the app told me my pizza was ready 10 minutes before i arrive there. well i was waiting for my pizza i wash the girl that was making pizzas go open the door with her gloves on and\n",
      "clean=wouldve like the delivery to come sooner, but i blame that on how far i must be from you guys\n",
      "clean=order wasnt ready when it said online it was. waited extra 26minutes.\n",
      "clean=i ordered my food **** near an hour ago and it still isn't here. that's ****ed up customer service never again will i order from dominos. *****s\n",
      "clean=so apparetly this locatin does operate in accordance to your online ordering system-stated directly from andrew the manager. he said they dont honor the online ordeing times....what a joke the food came soaked in grease an hour and twenty minutes after ord\n",
      "clean=i never received my meal. tried calling the store six times without a answer. this is very unprofessional. never ever will i order from you again. i paid with my debit card, and have no meal period. i want my money back and my meal.\n",
      "clean=i really hope you guys dnt forget my garlic butter dippin sauce like last time\n",
      "clean=we order a lot during tax season but we will never order from this location again...i tried calling to place an order and the line kept being busy and then when someone did answer they pick the phone up and hung it up....i ordered the pizza at 11:48am and\n",
      "clean=i'm tryn to call the store. and the line is busy my pizza us not delivered yet\n",
      "clean=my order wasnt ready and i had to wait an hour extra 15 minutes\n",
      "clean=my pasta in bread bowl was swimming in butter so much that it was leaking through to bottom of the box and dumped off about 1/4 cup of extra butter\n",
      "clean=thanks for making online ordering simple...\n",
      "clean=my order is always more than a hour late\n",
      "clean=i am a avid fan of dominos have been for a long time,but 5 of the last 6 orders have been wrong,and when i have called to complain,i have been spoken to very rudley and short,and even hung up,that will not happen again because i will will not be ordering from\n",
      "clean=thanks i will definitely order this again and use this online delivery!\n",
      "clean=wow\n",
      "clean=wow what a scam\n",
      "clean=real delivery time is not the same as online time i think it should be in sync\n",
      "clean=it has been nearly two hours since i have placed my order.\n",
      "clean=well it said 23 to 33 min its been 45 so far and is here yet\n",
      "clean=i am very upset with this order. i waited 2 hours for my order and when it arrived, i did not receive my garlic dipping cups, nor did i receive my ranc dressing for my salad. also the delivery driver told me my total was 22.58 and when i looked at the box\n",
      "clean=tracker display deliveeed to early but received pizza 10 mins after\n",
      "clean=i need a credit my food was old and i didnt get my pop\n",
      "clean=i don't know whos going to read this but i placed the order online obviously and it told me it was ready for pick up online. but, when i got there the pizza wasn't ready and i did not get a proper explanation as to why it wasn't.\n",
      "clean=i would really appreciate it if you were to cancel my order. i have been on hold for almost 20 minutes trying to cancel. i placing this order at 9:30pm, which left your store at 10:03 pm here it is 12:00am and i have still not received my order. please apply\n",
      "clean=i called back to add on a pop i was on hold for 10 min i didn't get my pop thanks\n",
      "clean=i ordered 3pizzas 2 were ready, and i had to wsit another 20 minutes for the 3rd pizza\n",
      "clean=i was informed by the young man that you had to bring in i would and the credit card when you order online that should be put on online . in case you have someone order for you and its not your credit card this way you can have that person come with you and bri\n",
      "clean=wow\n",
      "clean=always excellent.highly professional drivers.\n",
      "clean=wow\n",
      "clean=thanks for being open!\n",
      "clean=very likely always fast services\n",
      "clean=my bread was old and didn't have any garlic butter or parmesan on the bites\n",
      "clean=thanks andrea for making my food to perfection. hopefully you make my food next time too\n",
      "clean=the person who was work which was probably nacrendra was on his cell phone the whole time from when i got in, to when i left! how unprofessional.\n",
      "clean=ur delivery ppl are vry professional. its a shame they dnt get tipped alot here where i am staying. i hav no problm takn care of them.\n",
      "clean=thank you so much for the extra cutlery and plates! it made having to have dinner \"on the run\" even easier.  job well done!\n",
      "clean=order was placed at 8:28 and estimate for pickup was 9-14 minutes. order was finished and able to be picked up at 9 pm 15 minutes late.\n",
      "clean=they forgot my blue cheese . i am a very picky person i dont even want the food anymore.\n",
      "clean=thanks for the pizza guise. until next time.\n",
      "clean=asked for well done on my pan pizza, was very doughy and not cooked enough!\n",
      "clean=there was a short, straight whitegray hair in my pizza.\n",
      "clean=order wasnt even ready , got my money back , going to jets\n",
      "clean=crusts were switched. toppings for brooklyn crust went on hand tossed. toppings for hand tossed came on brooklyn. so close, yet so far away.\n",
      "clean=the fastest delivery by far\n",
      "clean=my order was completely burnt\n",
      "clean=absolutely mouth watering...and such a deal...50% of the pizza, lovin' it!!!\n",
      "clean=wow\n",
      "clean=wow your great...thanks catherine\n",
      "clean=always solid pizza thanks\n",
      "clean=i asked for no green pepper on my sandwich but there was gp on it\n",
      "clean=the gluten free pizza was missing mozzarella cheese\n",
      "clean=there are no green peppers. what do we do now\n",
      "clean=told me my order wasnt ready when it was. left me waiting 20 minutes. no apology offered. unacceptable.\n",
      "clean=was early\n",
      "clean=arrived after seeing online the the order was complete. when i arrived had to wait  about 10 minutes.\n",
      "\n",
      " \n",
      " \n",
      " end of positive comments \n",
      " \n",
      " \n",
      "\n",
      "clean=been having lots of problems my last two orders. last order came over 1 12 hrs late and didnt make a problem out of it. today the driver doesnt even bring the order to house but has me get out in the rain to get the food.\n",
      "clean=understand staff is busy. but no need to be rude.\n",
      "clean=although fresh, this is not double philly steak meat...\n",
      "clean=been having lots of problems my last two orders. last order came over 1 12 hrs late and didnt make a problem out of it. today the driver doesnt even bring the order to house but has me get out in the rain to get the food.\n",
      "clean=understand staff is busy. but no need to be rude.\n",
      "clean=thank you so much domino's for correcting my last order with a discount this time. today they forgot the dipping sauce for the chicken. i call the store over and over again and got no answer. when i finally got a answer, i was told they will bring some. it\n",
      "clean=online ordering was difficult.  was uncertain when i customized my order whether it negated the specialty pizza and had to submitselect each item topping.  finally figured it out.  thanks\n",
      "clean=pizza was over an hour late and old, didnt accept it\n",
      "clean=i put delivery instructions that were not followed, leading to my order to be nearly 25 minutes late.\n",
      "clean=some parts of the chicken was really chewy and fat... it could be better. and the sauce taste weird.\n",
      "clean=food was cooked for about 10 minutes before food left store at 6:36, didn't arrive for over 30 minutes. when i called i got a question of if he wants me to call the driver but by that time he was already pulling in. he did say he was sorry and they were \"are\n",
      "clean=thanks i am sorry i couldnt tip, but if i had it i definitely would.\n",
      "clean=order 20 min late so far\n",
      "clean=not our favorite but not the worst either. sauce was very spicy\n",
      "clean=no comment but i do want free pizza everyday its too cold to go outside\n",
      "clean=the driver is totally late if he left the store when you said at 3:36 i am only 10 minutes away and hes still not here\n",
      "clean=our food was done 30 minutes within ordering it, yet it still took 2 hours to get here! once we finally received our food it was cold. i really want my money back!\n",
      "clean=it's been saying it's delivered and i haven't received food close to an hour later when it said 33 minutes max, gave to wait until my next break to eat my lunch.....cold pizza sucks\n",
      "clean=this is the last time i order from here. this is the third time in a row there has been issues and when you call the store theyre rude and hang up on you.\n",
      "clean=woudl liek to get a call if order is running late.  seems like the order is never on time. tracker said driver left at 11:51 but when i called they said he had just left at 12:03.  order arrived at 12:25  it was supposed be here at 12:00. i ordered the foo\n",
      "clean=my order has been late and incorrect the last two times i ordered. i will no longer be ordering from this location. if it continues with a different location, i will not be ordering from dominoes anymore.\n",
      "clean=i had a horrible experience at dominos today. i announced that we were there to pick up our order on our arrival and my name was at the top of the board and it stated that our order was ready now. i asked the cashiers if we can pay for now, but they seemed\n",
      "clean=we ordered our pizza from the crowne plaza hotel around the block from dominoes. my gps clocked the drive at 4 min. after the pizza had been marked as \"on its way\" for 20 min, i called the store and explained the situation. the person i spoke to was rude a\n",
      "clean=literally were not busy, and i ordered a sandwich and boneless bbq wings. took about an hour and they screwed up my sandwich. i work across the street at quicken loans and usually recommend you guys and order for my team once a week. now i will definitely\n",
      "clean=driver was polite but late but not necessarily his fault. took over an hour when my estimate was 30-40 minutes. that is quite a big difference.\n",
      "clean=disappointing when the app says the order is done then i show up 5 minutes later and it is still in the oven. i order here primarily because of the speed of ordering and pickup. i will stop ordering if someone marks my pizza as done and i have to waste my\n",
      "clean=john delivery driver drove dangerously fast through the apartment complex and braked noticeably late. when giving me my order i could smell alcohol coming from him. after he left, i immediately called the store and told my concerns to charles..\n",
      "clean=the website can be confusing.  i had to go back several times.\n",
      "clean=unless i was doing something wrong, the only way to see what the item cost, was to add it to the order, then review the order. this is why i gave 3 stars to ordering experience.  otherwise, i felt the web site worked well.            thanks\n",
      "clean=your delivery driver was blatently rude and accused me purposefully not answering my phone (though i never received one call) and then made a sarcastic remark thanking me for shoveling the walkway that he walked through to get to a door (it was not shovele\n",
      "clean=our only complaint is the marinara sauce was not brought for the third time, despite my calling after the order was placed as a reminder!\n",
      "clean=we ordered 2 garlic sauces, but only received one. it wouldnt be a big deal but if you charge for it at least give it with the order. we also ordered the ranch dressing not the ranch cup, but received the ranch cup.\n",
      "clean=the tracking system obviously does not work, or at least it does not correlate to the actual status. i would quit using it.\n",
      "clean=delivery driver was late but said it was busy.\n",
      "clean=ordered a pair of pizzas. after an hour, there was no delivery, no explanation, and no call back. the domino's call back number was answered by someone who complained that i was irate about the circumstance, and placed me on a 5 minute hold. the online sit\n",
      "clean=pineapple was missing from the fiery hawaiian  - did a timed order that was about 25 min late  according to tracker the pizza sat in the store for quite awhile.   driver was very polite and apologetic for the delay.\n",
      "clean=order tracker said its done. but it was not ready. it's really frustrating to wait more??especially it said its ready.\n",
      "clean=my pizza has no sauce on it all. in never asked to take out the sauce on my pizza. and my favorite part of the pizza is the sauce. what the fuck!!!!!  you need to tell people they are not getting any sauce before you take an order that wants sauce on the pizza. i ne\n",
      "clean=there was no chicken in the chicken carbonara - only bacon, mushrooms, and onions.\n",
      "clean=delivery driver did not give me a receipt to sign for my order in witch i paid via card leaving me concerned about the tip spot on sed receipt. vary unusual and left me uncomfortable.\n",
      "clean=you forgot my sauces which you charged me for.  while i appreciate the offer to come back with sauce in 20 minutes, it wouldnt be worth doing as the food would be cold.\n",
      "clean=everything was very tasty. however the pizza was made wrong and for the second time in a row i didn't receive any of the sauces i ordered.\n",
      "clean=not likely. this is the second time it has taken forever to receive my order. the delivery drivers drive around for 30 mins before trying to locate my address. need drivers that know the area or at least know how to use navigation.\n",
      "clean=i only received one sauce instead of 2 to share w 4 people, we ended up not eating much of the stuffed cheesy bread.\n",
      "clean=i was prepared to give you 5 stars for providing me pizza at such a late hour. see my husband and children are out of town and i work a hectic schedule, after getting home i realized i hadn't eaten all day. i was suprised to see you were open and elated to\n",
      "clean=thank you for being open at such a late hour\n",
      "clean=that order was delivered so quickly! thanks so much, ill definitely order from this location again!\n",
      "clean=usually the service is great but i ended up waiting for 45 minutes after the delivery was supposed to be made and ended up missing my lunch period. i am slightly disappointed this time around.\n",
      "clean=onesimo was polite but leaving your customers on hold for over 20 minutes to fix a problem is ridiculous. and then to wait for almost an hour and half for the replacement. likelihood of me ordering from you again? very slim.\n",
      "clean=this was my first dp & i was totally disappointed. the pie had to much sauce making it soggy & it was to spicy..i will not be ordering from dp again.\n",
      "clean=i understand halloween is busy night.  my order was placed for a 5:00 delivery at 2:30 pm.  food was delivered too late.\n",
      "clean=driver took almost an hour to get here, which was really the only thing that went wrong. the tracker said the pizza was out for delivery at 7:35pm and we didn't get a knock on the door until around 8:20pm\n",
      "clean=so this is the third time that i have ordered from this location.  the first time i was given the wrong type of chicken.  i received one with pineapple and jalapeo instead of the hot buffalo.  the second time i ordered a soda along with my pizza and the soda\n",
      "clean=this is the second time my order has taken much longer than estimated. grabbed the wrong dipping sauce. i will not be using this dominos again.\n",
      "clean=the driver went to the wrong address and couldnt seem to understand why i told him the vehicle he was seeing wasnt mine, and how i didnt have halloween decorations up.  i make a drivers note that my porch light is green its to help them find my house, it d\n",
      "clean=no my food was horrible the pizza was okay but to much sauce and my cheesey bread was burnt i could taste the burnt ness.\n",
      "clean=i normally love dominos. the only complaint i have is the amount of time it took for the driver to deliver the food i ordered. it took almost an hour, and the store is located about 10 minutes from my house (according to google maps)  our food was cold.\n",
      "clean=it's absolutely perfect. thank you guys for everything and i am sooooo sorry for not tipping. i always tip at least 4 dollars but it was just so crazy here that it slipped my mind\n",
      "clean=only complaint is that i wish i knew you had deep dish before i ordered.\n",
      "clean=i ordered triple jalapeos and got double. only complaint.\n",
      "clean=sarah: someone forgot to wrap my sandwiches in foil so in spite fast delivery speed my food was stone cold. someone made a big mistake. subs reheated dont taste the same. someone call me\n",
      "clean=use directions to deliver next time - front door difficult to get to - thanks\n",
      "clean=guy boxing the pizzas didnt want to give me his name simply because of the survey, he complained about the parking in your establishment which you know in that location there is no parking spots. we had a brief two minute altercation about where i am parking\n",
      "clean=staff was kinda rude because all i heard was screaming for staff to get to the counter. then, i was told i didnt place an order cause the counter person couldnt find my name and i even spelled my last name to this individual.  all i can say i may not go to\n",
      "clean=bread bites were horribly undercooked. pizza and sandwich were great.\n",
      "clean=the pizza was great. my wings were horrblr worst wings from dominos ever. they were undercooked\n",
      "clean=the food was cold and dried out. it was obvious that it wasnt baked fresh and had been sitting for a while. epsecially if the order tracker is intended to be an accurate reflection of the order status. unfortunately i was in a meeting and didnt have the op\n",
      "clean=the cara in the bread bowl was fantastic the chicken alfredo was outta this world thank you for the gr al. norman\n",
      "clean=it was the worst heartburn i have experienced.  akin to torture.\n",
      "clean=you guys suck not om time or dont even answer your phone bery disappointing cheap dominoes\n",
      "clean=we ordered jalapenobacon stuffed cheese bread but were given the regular cheese stuffed bread. it was still good but was disappointing not receiving what we ordered and too bad outside to make a trip back to the store from home.\n",
      "clean=the wings were really bad.  fatty and breaded?  the wrong sauce and salad dressing were sent.  not your best effort.\n",
      "clean=it was awful lol\n",
      "clean=pizza was late, arrived cold, coke was warm.\n",
      "clean=eveything  was fantastic, except our  chicken was burnt\n",
      "clean=your computer system can not tell the difference between est and daylight savings time. i ordered it on line for a 6pm pick up they had it done a whole hour early at 5 pm. therefore it was stone cold.\n",
      "clean=great job getting us our food in this awful weather!!\n",
      "clean=i was please with receiving my food on time and delivery was great but i order a 8pc. boneless chicken and only gotten 6pc. of chicken\n",
      "clean=took an hour to get food after it said it was on its way, the pasta had alot of tomato and asked for light. food was cold\n",
      "clean=the pies were ice cold. the light cheese pie had no cheese.\n",
      "clean=jamal was very polite, but was assigned another order at the same time that made delivery take almost an hour.  the pizza and the chicken look like they were well made, but were barely warm when they arrived.i was worried something bad had happened to the\n",
      "clean=i have to say that i love your food but the location were it was picked up sucks it needs an update bad which i belive may be coming soon because it still has the old name domino's pizza instead of just domino's\n",
      "clean=i asked for square cut  the chicken was cut in huge chunks...nothing like i have received ever from the redford location.  will never order from this location again.\n",
      "clean=order accurate. delivery punctual. however, specialty chicken saltier than would've prefered.\n",
      "clean=i normally order pretty often but this experience is leaving a bad taste in my mouth and my order hasn't even arrived yet even though the tracking says it has. i called to question where my delivery was at and the girl just tried to rush me off the phone.\n",
      "clean=the pepperoni pizza smelled like bad seafood? didn't taste much better (but you're domino's, so i knew that was coming)...\n",
      "clean=much better after a bad experience at another store\n",
      "clean=favorite pizza in the universe, never had a bad experience\n",
      "clean=had bad service.it took more than 100 minutes to get delivered.  never order another time and recommend anyone to order online from this store.\n",
      "clean=appearance was okay. supposed to be garlic crust if not mistaken. however, the service and wait wasnt  bad.\n",
      "clean=kids, i tip in cash so you can pocket most of it. tell them i am a bad tipper and keep the cash.\n",
      "clean=cute driver, too bad i looked horrible lol\n",
      "clean=usually orders are good.. but today the chicken on the pizza was not completely cooked. there was about 10 pieces total  which is very little compared to to how much we usually get and they were all not fully cooked.\n",
      "clean=one was only 12 full extra chick was very little chicken on both orders\n",
      "clean=pizza was really good. kind of disappointed in the salad. some of lettuce was bad and hardly any purple cabbage. definitely not worth the 6.99 i paid for it.\n",
      "clean=it took almost 3 hours to get my order and then one pizza was slightly under cooked and the other was missing one of my toppings. also the manager was very disrespectful, i just really was not happy at all with my experience!!\n",
      "clean=your commercials are very rude and attacking pizza hut which i think is rude. but i like that you're open late so i guess good job on that.  but try not to be rude anymore.\n",
      "clean=was almost a half hour late called to see where order was and i believe i should get order for free due to by food being late\n",
      "clean=took over 40 min from when it left the store according to your tracker...arrived cold and pizza was under baked chicken was good little burnt personally. driver forgot receipt so i couldnt tip her.....poor service overall\n",
      "clean=we are only 10 mins max away and our order said it left the bldg and was over 25 mins past time left store..still waiting as of 12:04. other order being delivered first was fartger away, should've delivered ours first. very frustrated. husband's been waiti\n",
      "\n",
      " \n",
      " \n",
      " end of neutral comments \n",
      " \n",
      " \n",
      "\n"
     ]
    }
   ],
   "source": [
    "# EVALUATE RESULTS\n",
    "#WE will also print comments\n",
    "\n",
    "negative_comment = [d for d in comment_sorted if d['sentiment'] == 'negative']\n",
    "for comments in negative_comment[0:100]:\n",
    "    print(\"clean=%s\"%(comments['clean']))\n",
    "print(\"\\n \\n \\n end of negative comments \\n \\n \\n\") \n",
    "positive_comment = [d for d in comment_sorted if d['sentiment'] == 'positive']\n",
    "for comments in positive_comment[0:100]:\n",
    "    print(\"clean=%s\"%(comments['clean']))\n",
    "print(\"\\n \\n \\n end of positive comments \\n \\n \\n\") \n",
    "neutral_comment = [d for d in comment_sorted if d['sentiment'] == 'neutral']\n",
    "for comments in neutral_comment[0:100]:\n",
    "    print(\"clean=%s\"%(comments['clean']))\n",
    "print(\"\\n \\n \\n end of neutral comments \\n \\n \\n\")"
   ]
  },
  {
   "cell_type": "code",
   "execution_count": 11,
   "metadata": {},
   "outputs": [
    {
     "data": {
      "image/png": "[encoded data removed]",
      "text/plain": [
       "<matplotlib.figure.Figure at 0x1f62c9be4e0>"
      ]
     },
     "metadata": {},
     "output_type": "display_data"
    }
   ],
   "source": [
    "\n",
    "# plots\n",
    "\n",
    "# A histogram of the scores.\n",
    "x = [d['polarity'] for d in comment_sorted]\n",
    "num_bins = 21\n",
    "n, bins, patches = plt.hist(x, num_bins, normed=1, facecolor='blue', alpha=0.5)\n",
    "plt.xlabel('Polarity')\n",
    "plt.ylabel('Probability')\n",
    "plt.title(r'Histogram of polarity')\n",
    "\n",
    "# Tweak spacing to prevent clipping of ylabel\n",
    "plt.subplots_adjust(left=0.15)\n",
    "plt.show()"
   ]
  },
  {
   "cell_type": "code",
   "execution_count": 12,
   "metadata": {},
   "outputs": [
    {
     "data": {
      "image/png": "[encoded data removed]",
      "text/plain": [
       "<matplotlib.figure.Figure at 0x1f674a2f358>"
      ]
     },
     "metadata": {},
     "output_type": "display_data"
    }
   ],
   "source": [
    "# A pie chart showing the number of comments in each sentiment category\n",
    "\n",
    "pos = len(positive_comment)\n",
    "neu = len(negative_comment)\n",
    "neg = len(neutral_comment)\n",
    "labels = 'Positive', 'Neutral', 'Negative'\n",
    "sizes = [pos, neu, neg]\n",
    "colors = ['yellowgreen', 'gold', 'coral']\n",
    "plt.pie(sizes, labels=labels, colors=colors,\n",
    "        autopct='%1.1f%%', shadow=True, startangle=90)\n",
    "plt.axis('equal')\n",
    "plt.show()"
   ]
  },
  {
   "cell_type": "code",
   "execution_count": 16,
   "metadata": {},
   "outputs": [
    {
     "name": "stdout",
     "output_type": "stream",
     "text": [
      "\n",
      "\n",
      "Positive comments:\n",
      "absolutely mouth watering...and such a deal...50% of the pizza, lovin' it!!!\n",
      "wow\n",
      "wow your great...thanks catherine\n",
      "always solid pizza thanks\n",
      "i asked for no green pepper on my sandwich but there was gp on it\n"
     ]
    }
   ],
   "source": [
    "# printing  5 positive  \n",
    "print(\"\\n\\nPositive comments:\")\n",
    "for comments in positive_comment[90:95]: \n",
    "    print(comments['clean']) \n",
    "  "
   ]
  },
  {
   "cell_type": "code",
   "execution_count": 17,
   "metadata": {},
   "outputs": [
    {
     "name": "stdout",
     "output_type": "stream",
     "text": [
      "\n",
      "\n",
      "Negative comments:\n",
      "pizza taste horrible\n",
      "dante was late!!!!!!\n",
      "my pizza looks nasty\n",
      "food took forever said i had the food and was still waiting on my food terrible service\n",
      "that was horrible. the edges of the pizza were burnt and there was no sauce. i also paid for icing and didnt receive it.\n"
     ]
    }
   ],
   "source": [
    "# printing  5 negative  \n",
    "print(\"\\n\\nNegative comments:\")\n",
    "for comments in negative_comment[90:95]: \n",
    "    print(comments['clean']) "
   ]
  },
  {
   "cell_type": "code",
   "execution_count": 32,
   "metadata": {},
   "outputs": [
    {
     "name": "stdout",
     "output_type": "stream",
     "text": [
      "\n",
      "\n",
      "Neutral comments:\n",
      "jamal was very polite, but was assigned another order at the same time that made delivery take almost an hour.  the pizza and the chicken look like they were well made, but were barely warm when they arrived.i was worried something bad had happened to the\n",
      "i have to say that i love your food but the location were it was picked up sucks it needs an update bad which i belive may be coming soon because it still has the old name domino's pizza instead of just domino's\n",
      "i asked for square cut  the chicken was cut in huge chunks...nothing like i have received ever from the redford location.  will never order from this location again.\n",
      "order accurate. delivery punctual. however, specialty chicken saltier than would've prefered.\n",
      "i normally order pretty often but this experience is leaving a bad taste in my mouth and my order hasn't even arrived yet even though the tracking says it has. i called to question where my delivery was at and the girl just tried to rush me off the phone.\n",
      "the pepperoni pizza smelled like bad seafood? didn't taste much better (but you're domino's, so i knew that was coming)...\n",
      "much better after a bad experience at another store\n",
      "favorite pizza in the universe, never had a bad experience\n",
      "had bad service.it took more than 100 minutes to get delivered.  never order another time and recommend anyone to order online from this store.\n",
      "appearance was okay. supposed to be garlic crust if not mistaken. however, the service and wait wasnt  bad.\n",
      "kids, i tip in cash so you can pocket most of it. tell them i am a bad tipper and keep the cash.\n",
      "cute driver, too bad i looked horrible lol\n",
      "usually orders are good.. but today the chicken on the pizza was not completely cooked. there was about 10 pieces total  which is very little compared to to how much we usually get and they were all not fully cooked.\n",
      "one was only 12 full extra chick was very little chicken on both orders\n",
      "pizza was really good. kind of disappointed in the salad. some of lettuce was bad and hardly any purple cabbage. definitely not worth the 6.99 i paid for it.\n"
     ]
    }
   ],
   "source": [
    "# printing  5 neutral\n",
    "print(\"\\n\\nNeutral comments:\")\n",
    "for comments in neutral_comment[80:95]: \n",
    "    print(comments['clean']) "
   ]
  },
  {
   "cell_type": "code",
   "execution_count": 19,
   "metadata": {},
   "outputs": [
    {
     "data": {
      "text/plain": [
       "Sentiment(polarity=1.0, subjectivity=1.0)"
      ]
     },
     "execution_count": 19,
     "metadata": {},
     "output_type": "execute_result"
    }
   ],
   "source": [
    "TextBlob(\"awesome pizza\").sentiment"
   ]
  },
  {
   "cell_type": "code",
   "execution_count": 20,
   "metadata": {},
   "outputs": [
    {
     "data": {
      "text/plain": [
       "Sentiment(polarity=-1.0, subjectivity=1.0)"
      ]
     },
     "execution_count": 20,
     "metadata": {},
     "output_type": "execute_result"
    }
   ],
   "source": [
    "TextBlob(\"terrible pizza\").sentiment"
   ]
  },
  {
   "cell_type": "code",
   "execution_count": 21,
   "metadata": {},
   "outputs": [
    {
     "data": {
      "text/plain": [
       "Sentiment(polarity=-0.3, subjectivity=0.6)"
      ]
     },
     "execution_count": 21,
     "metadata": {},
     "output_type": "execute_result"
    }
   ],
   "source": [
    "TextBlob(\"late delivery\").sentiment"
   ]
  },
  {
   "cell_type": "code",
   "execution_count": 22,
   "metadata": {},
   "outputs": [
    {
     "data": {
      "text/plain": [
       "Sentiment(polarity=0.3499999999999999, subjectivity=0.6666666666666666)"
      ]
     },
     "execution_count": 22,
     "metadata": {},
     "output_type": "execute_result"
    }
   ],
   "source": [
    "TextBlob(\"not bad\").sentiment"
   ]
  },
  {
   "cell_type": "code",
   "execution_count": 24,
   "metadata": {},
   "outputs": [
    {
     "data": {
      "text/plain": [
       "Sentiment(polarity=-0.65, subjectivity=0.8)"
      ]
     },
     "execution_count": 24,
     "metadata": {},
     "output_type": "execute_result"
    }
   ],
   "source": [
    "TextBlob(\"horrible pizza and late delivery\").sentiment"
   ]
  },
  {
   "cell_type": "code",
   "execution_count": 29,
   "metadata": {},
   "outputs": [
    {
     "data": {
      "text/plain": [
       "Sentiment(polarity=1.0, subjectivity=0.9750000000000001)"
      ]
     },
     "execution_count": 29,
     "metadata": {},
     "output_type": "execute_result"
    }
   ],
   "source": [
    "TextBlob(\"very great\").sentiment"
   ]
  },
  {
   "cell_type": "code",
   "execution_count": 28,
   "metadata": {},
   "outputs": [
    {
     "data": {
      "text/plain": [
       "Sentiment(polarity=0.8, subjectivity=0.75)"
      ]
     },
     "execution_count": 28,
     "metadata": {},
     "output_type": "execute_result"
    }
   ],
   "source": [
    "TextBlob(\"great\").sentiment"
   ]
  },
  {
   "cell_type": "code",
   "execution_count": 31,
   "metadata": {},
   "outputs": [
    {
     "data": {
      "text/plain": [
       "Sentiment(polarity=-0.3, subjectivity=0.3)"
      ]
     },
     "execution_count": 31,
     "metadata": {},
     "output_type": "execute_result"
    }
   ],
   "source": [
    "TextBlob(\"sucks\").sentiment"
   ]
  },
  {
   "cell_type": "code",
   "execution_count": null,
   "metadata": {},
   "outputs": [],
   "source": []
  }
 ],
 "metadata": {
  "kernelspec": {
   "display_name": "Python 3",
   "language": "python",
   "name": "python3"
  },
  "language_info": {
   "codemirror_mode": {
    "name": "ipython",
    "version": 3
   },
   "file_extension": ".py",
   "mimetype": "text/x-python",
   "name": "python",
   "nbconvert_exporter": "python",
   "pygments_lexer": "ipython3",
   "version": "3.6.4"
  }
 },
 "nbformat": 4,
 "nbformat_minor": 2
}
